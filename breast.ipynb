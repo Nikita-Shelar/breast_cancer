{
  "nbformat": 4,
  "nbformat_minor": 0,
  "metadata": {
    "colab": {
      "provenance": []
    },
    "kernelspec": {
      "name": "python3",
      "display_name": "Python 3"
    },
    "language_info": {
      "name": "python"
    }
  },
  "cells": [
    {
      "cell_type": "code",
      "execution_count": 1,
      "metadata": {
        "colab": {
          "base_uri": "https://localhost:8080/",
          "height": 34
        },
        "id": "AljkHvSGs3bV",
        "outputId": "9aaf79f0-3c6e-4dcd-e64b-3910aa2ea5a7"
      },
      "outputs": [
        {
          "output_type": "stream",
          "name": "stdout",
          "text": [
            "Model Accuracy with Random Forest: 0.96\n"
          ]
        },
        {
          "output_type": "display_data",
          "data": {
            "text/plain": [
              "<IPython.core.display.Javascript object>"
            ],
            "application/javascript": [
              "\n",
              "    async function download(id, filename, size) {\n",
              "      if (!google.colab.kernel.accessAllowed) {\n",
              "        return;\n",
              "      }\n",
              "      const div = document.createElement('div');\n",
              "      const label = document.createElement('label');\n",
              "      label.textContent = `Downloading \"${filename}\": `;\n",
              "      div.appendChild(label);\n",
              "      const progress = document.createElement('progress');\n",
              "      progress.max = size;\n",
              "      div.appendChild(progress);\n",
              "      document.body.appendChild(div);\n",
              "\n",
              "      const buffers = [];\n",
              "      let downloaded = 0;\n",
              "\n",
              "      const channel = await google.colab.kernel.comms.open(id);\n",
              "      // Send a message to notify the kernel that we're ready.\n",
              "      channel.send({})\n",
              "\n",
              "      for await (const message of channel.messages) {\n",
              "        // Send a message to notify the kernel that we're ready.\n",
              "        channel.send({})\n",
              "        if (message.buffers) {\n",
              "          for (const buffer of message.buffers) {\n",
              "            buffers.push(buffer);\n",
              "            downloaded += buffer.byteLength;\n",
              "            progress.value = downloaded;\n",
              "          }\n",
              "        }\n",
              "      }\n",
              "      const blob = new Blob(buffers, {type: 'application/binary'});\n",
              "      const a = document.createElement('a');\n",
              "      a.href = window.URL.createObjectURL(blob);\n",
              "      a.download = filename;\n",
              "      div.appendChild(a);\n",
              "      a.click();\n",
              "      div.remove();\n",
              "    }\n",
              "  "
            ]
          },
          "metadata": {}
        },
        {
          "output_type": "display_data",
          "data": {
            "text/plain": [
              "<IPython.core.display.Javascript object>"
            ],
            "application/javascript": [
              "download(\"download_6c9e4f1f-df2d-4143-94f9-3441c03256f5\", \"random_forest_model.pkl\", 317821)"
            ]
          },
          "metadata": {}
        }
      ],
      "source": [
        "# Import necessary libraries\n",
        "import pandas as pd\n",
        "from sklearn.model_selection import train_test_split\n",
        "from sklearn.ensemble import RandomForestClassifier\n",
        "from sklearn.metrics import accuracy_score\n",
        "import pickle\n",
        "from google.colab import files\n",
        "\n",
        "# Load the dataset\n",
        "# Replace 'breast_cancer_data.csv' with your actual file name\n",
        "data = pd.read_csv('breast_cancer_data.csv')\n",
        "\n",
        "# Preprocess the data\n",
        "# Convert 'diagnosis' column to binary (M=1, B=0)\n",
        "data['diagnosis'] = data['diagnosis'].map({'M': 1, 'B': 0})\n",
        "\n",
        "# Define features and target\n",
        "X = data.drop(columns=['id', 'diagnosis'])  # Drop ID and target column\n",
        "y = data['diagnosis']\n",
        "\n",
        "# Split the data into train and test sets\n",
        "X_train, X_test, y_train, y_test = train_test_split(X, y, test_size=0.2, random_state=42)\n",
        "\n",
        "# Initialize the Random Forest Classifier\n",
        "model = RandomForestClassifier(n_estimators=100, random_state=42)  # Using 100 trees by default\n",
        "\n",
        "# Train the model\n",
        "model.fit(X_train, y_train)\n",
        "\n",
        "# Evaluate the model\n",
        "y_pred = model.predict(X_test)\n",
        "accuracy = accuracy_score(y_test, y_pred)\n",
        "print(f\"Model Accuracy with Random Forest: {accuracy:.2f}\")\n",
        "\n",
        "# Save the trained model to a file\n",
        "model_filename = 'random_forest_model.pkl'\n",
        "with open(model_filename, 'wb') as file:\n",
        "    pickle.dump(model, file)\n",
        "\n",
        "# Download the model to the local machine\n",
        "files.download(model_filename)\n"
      ]
    },
    {
      "cell_type": "code",
      "source": [
        "import pandas as pd\n",
        "import numpy as np\n",
        "import seaborn as sns\n",
        "import matplotlib.pyplot as plt\n",
        "\n",
        "# Load the dataset\n",
        "data = pd.read_csv('breast_cancer_data.csv')\n",
        "\n",
        "# Convert 'diagnosis' to binary: Malignant (M=1), Benign (B=0)\n",
        "data['diagnosis'] = data['diagnosis'].map({'M': 1, 'B': 0})\n",
        "\n",
        "# Step 1: Select the 10 most relevant features\n",
        "selected_features = [\n",
        "    'radius_mean', 'texture_mean', 'perimeter_mean', 'area_mean',\n",
        "    'smoothness_mean', 'compactness_mean', 'concavity_mean',\n",
        "    'concave points_mean', 'symmetry_mean', 'fractal_dimension_mean'\n",
        "]\n",
        "\n",
        "# Step 2: Separate malignant and benign cases for thresholding\n",
        "malignant = data[data['diagnosis'] == 1]\n",
        "benign = data[data['diagnosis'] == 0]\n",
        "\n",
        "# Calculate thresholds based on malignant median values\n",
        "thresholds = {feature: malignant[feature].median() for feature in selected_features}\n",
        "\n",
        "# Step 3: Define a risk assessment function\n",
        "def assess_risk(row):\n",
        "    risk_score = 0\n",
        "\n",
        "    # Add risk points based on conditions\n",
        "    for feature, threshold in thresholds.items():\n",
        "        if row[feature] > threshold:\n",
        "            risk_score += 1\n",
        "\n",
        "    # Assign risk levels\n",
        "    if risk_score >= 7:  # Adjust cutoff for \"High Risk\" based on domain knowledge\n",
        "        return \"High Risk\"\n",
        "    elif risk_score >= 4:\n",
        "        return \"Moderate Risk\"\n",
        "    else:\n",
        "        return \"Low Risk\"\n",
        "\n",
        "# Apply risk assessment to the dataset\n",
        "data['Risk_Level'] = data.apply(assess_risk, axis=1)\n",
        "\n",
        "# Step 4: Visualize risk levels distribution\n",
        "sns.countplot(data=data, x='Risk_Level', palette='viridis')\n",
        "plt.title(\"Risk Levels Distribution\")\n",
        "plt.xlabel(\"Risk Level\")\n",
        "plt.ylabel(\"Count\")\n",
        "plt.show()\n",
        "\n",
        "# Step 5: Save the risk assessment results\n",
        "data[['id', 'diagnosis', 'Risk_Level']].to_csv('risk_assessment.csv', index=False)\n",
        "\n",
        "print(\"Risk assessment completed. Results saved to 'risk_assessment.csv'.\")\n"
      ],
      "metadata": {
        "colab": {
          "base_uri": "https://localhost:8080/",
          "height": 596
        },
        "id": "9Z41E17ptYEY",
        "outputId": "56d500b0-21c1-43dd-b483-bfe6bcae09ca"
      },
      "execution_count": 2,
      "outputs": [
        {
          "output_type": "stream",
          "name": "stderr",
          "text": [
            "<ipython-input-2-4410fdb58fc3>:47: FutureWarning: \n",
            "\n",
            "Passing `palette` without assigning `hue` is deprecated and will be removed in v0.14.0. Assign the `x` variable to `hue` and set `legend=False` for the same effect.\n",
            "\n",
            "  sns.countplot(data=data, x='Risk_Level', palette='viridis')\n"
          ]
        },
        {
          "output_type": "display_data",
          "data": {
            "text/plain": [
              "<Figure size 640x480 with 1 Axes>"
            ],
            "image/png": "[encoded data removed]"
          },
          "metadata": {}
        },
        {
          "output_type": "stream",
          "name": "stdout",
          "text": [
            "Risk assessment completed. Results saved to 'risk_assessment.csv'.\n"
          ]
        }
      ]
    },
    {
      "cell_type": "code",
      "source": [],
      "metadata": {
        "id": "lHeFM_pct8LG"
      },
      "execution_count": null,
      "outputs": []
    }
  ]
}